{
 "cells": [
  {
   "cell_type": "markdown",
   "id": "0957bc22",
   "metadata": {},
   "source": [
    "# Querying the 1000 Genomes Project with Amazon Athena"
   ]
  },
  {
   "cell_type": "markdown",
   "id": "b76b6dc9",
   "metadata": {},
   "source": [
    "\n",
    "This notebook demonstrates how to connect to Amazon Athena using PyAthena and query genomic data from the 1000 Genomes Project.\n"
   ]
  },
  {
   "cell_type": "code",
   "execution_count": null,
   "id": "b2a33022",
   "metadata": {},
   "outputs": [],
   "source": [
    "!pip install pyathena pandas"
   ]
  },
  {
   "cell_type": "code",
   "execution_count": null,
   "id": "30cd4046",
   "metadata": {},
   "outputs": [],
   "source": [
    "\n",
    "import pyathena\n",
    "import pandas as pd\n",
    "from IPython.core.display import display, HTML\n"
   ]
  },
  {
   "cell_type": "markdown",
   "id": "1c78108d",
   "metadata": {},
   "source": [
    "## Connect to Amazon Athena"
   ]
  },
  {
   "cell_type": "code",
   "execution_count": null,
   "id": "db332187",
   "metadata": {},
   "outputs": [],
   "source": [
    "\n",
    "conn = pyathena.connect(\n",
    "    s3_staging_dir=\"s3://athena-output-351869726285/\",\n",
    "    region_name='us-east-1',\n",
    "    encryption_option='SSE_S3'\n",
    ")\n"
   ]
  },
  {
   "cell_type": "markdown",
   "id": "bdd84e4b",
   "metadata": {},
   "source": [
    "## Query the 1000 Genomes Project"
   ]
  },
  {
   "cell_type": "code",
   "execution_count": null,
   "id": "824ae3fc",
   "metadata": {},
   "outputs": [],
   "source": [
    "\n",
    "query = \"SELECT * FROM default.g1000vcf_csv_int LIMIT 10\"\n",
    "df = pd.read_sql(query, conn)\n",
    "df.head(10)\n"
   ]
  },
  {
   "cell_type": "markdown",
   "id": "b0557bee",
   "metadata": {},
   "source": [
    "### Notes"
   ]
  },
  {
   "cell_type": "markdown",
   "id": "3fb26654",
   "metadata": {},
   "source": [
    "\n",
    "- This dataset is public and used for educational purposes only.\n",
    "- Columns include chromosome (`chrm`), position, reference/alternate bases, rsID, and allele frequency info.\n"
   ]
  }
 ],
 "metadata": {},
 "nbformat": 4,
 "nbformat_minor": 5
}
